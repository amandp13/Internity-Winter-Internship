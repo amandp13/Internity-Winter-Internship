{
 "cells": [
  {
   "cell_type": "markdown",
   "metadata": {},
   "source": [
    "# Create a pandas dataframe from this url."
   ]
  },
  {
   "cell_type": "code",
   "execution_count": 4,
   "metadata": {},
   "outputs": [
    {
     "name": "stdout",
     "output_type": "stream",
     "text": [
      "           9           qq.com\n",
      "0         11       taobao.com\n",
      "1         12      twitter.com\n",
      "2         15           vk.com\n",
      "3         16         live.com\n",
      "4         21        weibo.com\n",
      "...      ...              ...\n",
      "15032  93939       moh.gov.sg\n",
      "15033  93940  quericavida.com\n",
      "15034  93941   jihadology.net\n",
      "15035  93942          vlsu.ru\n",
      "15036  93943    books24x7.com\n",
      "\n",
      "[15037 rows x 2 columns]\n"
     ]
    }
   ],
   "source": [
    "import pandas as pd\n",
    "\n",
    "url = 'https://raw.githubusercontent.com/usama6naseer/largest_object/master/log.csv'\n",
    "\n",
    "def return_df(url):\n",
    "    if url.endswith('.csv'):\n",
    "        datas = pd.read_csv(url)\n",
    "        return datas\n",
    "    \n",
    "    else:\n",
    "        raise Exception('URL entered is incorrect.')\n",
    "        \n",
    "dataframe = return_df(url)\n",
    "\n",
    "print(dataframe)"
   ]
  },
  {
   "cell_type": "code",
   "execution_count": 5,
   "metadata": {},
   "outputs": [
    {
     "name": "stdout",
     "output_type": "stream",
     "text": [
      "    9       qq.com\n",
      "0  11   taobao.com\n",
      "1  12  twitter.com\n",
      "2  15       vk.com\n",
      "3  16     live.com\n",
      "4  21    weibo.com\n"
     ]
    }
   ],
   "source": [
    "print(dataframe.head(5))"
   ]
  },
  {
   "cell_type": "code",
   "execution_count": 6,
   "metadata": {},
   "outputs": [
    {
     "name": "stdout",
     "output_type": "stream",
     "text": [
      "<bound method NDFrame.describe of            9           qq.com\n",
      "0         11       taobao.com\n",
      "1         12      twitter.com\n",
      "2         15           vk.com\n",
      "3         16         live.com\n",
      "4         21        weibo.com\n",
      "...      ...              ...\n",
      "15032  93939       moh.gov.sg\n",
      "15033  93940  quericavida.com\n",
      "15034  93941   jihadology.net\n",
      "15035  93942          vlsu.ru\n",
      "15036  93943    books24x7.com\n",
      "\n",
      "[15037 rows x 2 columns]>\n"
     ]
    }
   ],
   "source": [
    "print(dataframe.describe)"
   ]
  },
  {
   "cell_type": "code",
   "execution_count": 7,
   "metadata": {},
   "outputs": [
    {
     "name": "stdout",
     "output_type": "stream",
     "text": [
      "(15037, 2)\n"
     ]
    }
   ],
   "source": [
    "print(dataframe.shape)"
   ]
  },
  {
   "cell_type": "code",
   "execution_count": 8,
   "metadata": {},
   "outputs": [
    {
     "name": "stdout",
     "output_type": "stream",
     "text": [
      "           9           qq.com\n",
      "15032  93939       moh.gov.sg\n",
      "15033  93940  quericavida.com\n",
      "15034  93941   jihadology.net\n",
      "15035  93942          vlsu.ru\n",
      "15036  93943    books24x7.com\n"
     ]
    }
   ],
   "source": [
    "print(dataframe.tail(5))"
   ]
  },
  {
   "cell_type": "code",
   "execution_count": null,
   "metadata": {},
   "outputs": [],
   "source": []
  }
 ],
 "metadata": {
  "kernelspec": {
   "display_name": "Python 3",
   "language": "python",
   "name": "python3"
  },
  "language_info": {
   "codemirror_mode": {
    "name": "ipython",
    "version": 3
   },
   "file_extension": ".py",
   "mimetype": "text/x-python",
   "name": "python",
   "nbconvert_exporter": "python",
   "pygments_lexer": "ipython3",
   "version": "3.8.3"
  }
 },
 "nbformat": 4,
 "nbformat_minor": 4
}
