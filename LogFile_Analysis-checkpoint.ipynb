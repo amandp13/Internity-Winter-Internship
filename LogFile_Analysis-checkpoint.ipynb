{
 "cells": [
  {
   "cell_type": "code",
   "execution_count": 1,
   "metadata": {},
   "outputs": [],
   "source": [
    "import pandas as pd\n",
    "import requests\n",
    "import numpy as np\n",
    "import seaborn as sns"
   ]
  },
  {
   "cell_type": "code",
   "execution_count": 2,
   "metadata": {},
   "outputs": [],
   "source": [
    "url = \"https://raw.githubusercontent.com/robert456456456456/Web_server_log_parser/master/devops.log\""
   ]
  },
  {
   "cell_type": "code",
   "execution_count": 3,
   "metadata": {},
   "outputs": [],
   "source": [
    "content = requests.get(url)\n",
    "data = (content.content.decode('UTF-8'))\n",
    "data = data.split(\"\\r\\n\")\n",
    "data.pop()\n",
    "del data[906]"
   ]
  },
  {
   "cell_type": "code",
   "execution_count": 4,
   "metadata": {},
   "outputs": [],
   "source": [
    "def filter(l):\n",
    "    ip = l.split(\" - - [\",1)[0]\n",
    "    l = l.split(\" - - [\",1)[1]\n",
    "    time = l.split(\" \",1)[0]\n",
    "    l = l.split(\" \",1)[1]\n",
    "    offset = l.split(\"] \",1)[0]\n",
    "    l = l.split('] \"',1)[1]\n",
    "    action = l.split(' HTTP/1.')[0]\n",
    "    l = l.split(' HTTP/1.')[1]\n",
    "    l = l.split('\" ')[1]\n",
    "    retcode = l.split(\" \",1)[0]\n",
    "    size = l.split(\" \",1)[1]\n",
    "    return [ip,time,offset,action,retcode,size]"
   ]
  },
  {
   "cell_type": "code",
   "execution_count": 5,
   "metadata": {},
   "outputs": [],
   "source": [
    "cleaned_data = []\n",
    "for i,j in enumerate(data):\n",
    "    cleaned_data.append(filter(j))"
   ]
  },
  {
   "cell_type": "markdown",
   "metadata": {},
   "source": [
    "## Getting geo location"
   ]
  },
  {
   "cell_type": "code",
   "execution_count": 6,
   "metadata": {},
   "outputs": [],
   "source": [
    "def get_location(ip):\n",
    "    response = requests.get(\"https://geolocation-db.com/json/{}&position=true\".format(ip)).json()\n",
    "    return response['country_name'],response['city'],response['state']"
   ]
  },
  {
   "cell_type": "code",
   "execution_count": 7,
   "metadata": {},
   "outputs": [],
   "source": [
    "array = np.array(cleaned_data)\n",
    "ips = array[:,0]"
   ]
  },
  {
   "cell_type": "code",
   "execution_count": null,
   "metadata": {},
   "outputs": [],
   "source": [
    "import time\n",
    "start = time.time()\n",
    "country = []\n",
    "state = []\n",
    "city = []\n",
    "for j,i in enumerate(ips):\n",
    "    co,ci,s = get_location(i)\n",
    "    country.append(co)\n",
    "    city.append(ci)\n",
    "    state.append(s)\n",
    "print(\"time taken: \",time.time()-start)"
   ]
  },
  {
   "cell_type": "code",
   "execution_count": 340,
   "metadata": {},
   "outputs": [],
   "source": [
    "co = country.copy()"
   ]
  },
  {
   "cell_type": "code",
   "execution_count": 341,
   "metadata": {},
   "outputs": [],
   "source": [
    "for i,j in enumerate(co):\n",
    "    if j == \"Not found\":\n",
    "        co[i] = \"Unknown\"\n",
    "        #ci[i] = \"Unknown\"\n",
    "        #s[i] = \"Unknown\""
   ]
  },
  {
   "cell_type": "code",
   "execution_count": 350,
   "metadata": {},
   "outputs": [
    {
     "data": {
      "text/html": [
       "<div>\n",
       "<style scoped>\n",
       "    .dataframe tbody tr th:only-of-type {\n",
       "        vertical-align: middle;\n",
       "    }\n",
       "\n",
       "    .dataframe tbody tr th {\n",
       "        vertical-align: top;\n",
       "    }\n",
       "\n",
       "    .dataframe thead th {\n",
       "        text-align: right;\n",
       "    }\n",
       "</style>\n",
       "<table border=\"1\" class=\"dataframe\">\n",
       "  <thead>\n",
       "    <tr style=\"text-align: right;\">\n",
       "      <th></th>\n",
       "      <th>ip</th>\n",
       "      <th>date/time</th>\n",
       "      <th>GMT_offset</th>\n",
       "      <th>action</th>\n",
       "      <th>return_code</th>\n",
       "      <th>size</th>\n",
       "      <th>Country</th>\n",
       "    </tr>\n",
       "  </thead>\n",
       "  <tbody>\n",
       "    <tr>\n",
       "      <td>0</td>\n",
       "      <td>64.242.88.10</td>\n",
       "      <td>07/Mar/2004:16:05:49</td>\n",
       "      <td>-0800</td>\n",
       "      <td>GET /twiki/bin/edit/Main/Double_bounce_sender?...</td>\n",
       "      <td>401</td>\n",
       "      <td>12846</td>\n",
       "      <td>United States</td>\n",
       "    </tr>\n",
       "    <tr>\n",
       "      <td>1</td>\n",
       "      <td>64.242.88.10</td>\n",
       "      <td>07/Mar/2004:16:06:51</td>\n",
       "      <td>-0800</td>\n",
       "      <td>GET /twiki/bin/rdiff/TWiki/NewUserTemplate?rev...</td>\n",
       "      <td>200</td>\n",
       "      <td>4523</td>\n",
       "      <td>United States</td>\n",
       "    </tr>\n",
       "    <tr>\n",
       "      <td>2</td>\n",
       "      <td>64.242.88.10</td>\n",
       "      <td>07/Mar/2004:16:10:02</td>\n",
       "      <td>-0800</td>\n",
       "      <td>GET /mailman/listinfo/hsdivision</td>\n",
       "      <td>200</td>\n",
       "      <td>6291</td>\n",
       "      <td>United States</td>\n",
       "    </tr>\n",
       "    <tr>\n",
       "      <td>3</td>\n",
       "      <td>64.242.88.10</td>\n",
       "      <td>07/Mar/2004:16:11:58</td>\n",
       "      <td>-0800</td>\n",
       "      <td>GET /twiki/bin/view/TWiki/WikiSyntax</td>\n",
       "      <td>200</td>\n",
       "      <td>7352</td>\n",
       "      <td>United States</td>\n",
       "    </tr>\n",
       "    <tr>\n",
       "      <td>4</td>\n",
       "      <td>64.242.88.10</td>\n",
       "      <td>07/Mar/2004:16:20:55</td>\n",
       "      <td>-0800</td>\n",
       "      <td>GET /twiki/bin/view/Main/DCCAndPostFix</td>\n",
       "      <td>200</td>\n",
       "      <td>5253</td>\n",
       "      <td>United States</td>\n",
       "    </tr>\n",
       "    <tr>\n",
       "      <td>5</td>\n",
       "      <td>64.242.88.10</td>\n",
       "      <td>07/Mar/2004:16:23:12</td>\n",
       "      <td>-0800</td>\n",
       "      <td>GET /twiki/bin/oops/TWiki/AppendixFileSystem?t...</td>\n",
       "      <td>200</td>\n",
       "      <td>11382</td>\n",
       "      <td>United States</td>\n",
       "    </tr>\n",
       "    <tr>\n",
       "      <td>6</td>\n",
       "      <td>64.242.88.10</td>\n",
       "      <td>07/Mar/2004:16:24:16</td>\n",
       "      <td>-0800</td>\n",
       "      <td>GET /twiki/bin/view/Main/PeterThoeny</td>\n",
       "      <td>200</td>\n",
       "      <td>4924</td>\n",
       "      <td>United States</td>\n",
       "    </tr>\n",
       "  </tbody>\n",
       "</table>\n",
       "</div>"
      ],
      "text/plain": [
       "             ip             date/time GMT_offset  \\\n",
       "0  64.242.88.10  07/Mar/2004:16:05:49      -0800   \n",
       "1  64.242.88.10  07/Mar/2004:16:06:51      -0800   \n",
       "2  64.242.88.10  07/Mar/2004:16:10:02      -0800   \n",
       "3  64.242.88.10  07/Mar/2004:16:11:58      -0800   \n",
       "4  64.242.88.10  07/Mar/2004:16:20:55      -0800   \n",
       "5  64.242.88.10  07/Mar/2004:16:23:12      -0800   \n",
       "6  64.242.88.10  07/Mar/2004:16:24:16      -0800   \n",
       "\n",
       "                                              action return_code   size  \\\n",
       "0  GET /twiki/bin/edit/Main/Double_bounce_sender?...         401  12846   \n",
       "1  GET /twiki/bin/rdiff/TWiki/NewUserTemplate?rev...         200   4523   \n",
       "2                   GET /mailman/listinfo/hsdivision         200   6291   \n",
       "3               GET /twiki/bin/view/TWiki/WikiSyntax         200   7352   \n",
       "4             GET /twiki/bin/view/Main/DCCAndPostFix         200   5253   \n",
       "5  GET /twiki/bin/oops/TWiki/AppendixFileSystem?t...         200  11382   \n",
       "6               GET /twiki/bin/view/Main/PeterThoeny         200   4924   \n",
       "\n",
       "         Country  \n",
       "0  United States  \n",
       "1  United States  \n",
       "2  United States  \n",
       "3  United States  \n",
       "4  United States  \n",
       "5  United States  \n",
       "6  United States  "
      ]
     },
     "execution_count": 350,
     "metadata": {},
     "output_type": "execute_result"
    }
   ],
   "source": [
    "df = pd.DataFrame(cleaned_data,columns=[\"ip\",\"date/time\",\"GMT_offset\",\"action\",\"return_code\",\"size\"])\n",
    "df['Country'] = co\n",
    "df.head(7)"
   ]
  },
  {
   "cell_type": "markdown",
   "metadata": {},
   "source": [
    "# Top 5 visited users"
   ]
  },
  {
   "cell_type": "code",
   "execution_count": 514,
   "metadata": {},
   "outputs": [
    {
     "data": {
      "text/plain": [
       "<matplotlib.axes._subplots.AxesSubplot at 0x281d1d8ad88>"
      ]
     },
     "execution_count": 514,
     "metadata": {},
     "output_type": "execute_result"
    },
    {
     "data": {
      "image/png": "[encoded data removed]",
      "text/plain": [
       "<Figure size 576x396 with 1 Axes>"
      ]
     },
     "metadata": {},
     "output_type": "display_data"
    }
   ],
   "source": [
    "sns.barplot(df.ip.value_counts().index[:5],df.ip.value_counts().values[:5])"
   ]
  },
  {
   "cell_type": "code",
   "execution_count": 484,
   "metadata": {},
   "outputs": [],
   "source": [
    "name = (df.ip.value_counts())"
   ]
  },
  {
   "cell_type": "code",
   "execution_count": 485,
   "metadata": {},
   "outputs": [
    {
     "data": {
      "text/plain": [
       "64.242.88.10                       452\n",
       "10.0.0.153                         270\n",
       "h24-71-236-129.ca.shawcable.net     51\n",
       "cr020r01-3.sac.overture.com         44\n",
       "h24-70-69-74.ca.shawcable.net       32\n",
       "Name: ip, dtype: int64"
      ]
     },
     "execution_count": 485,
     "metadata": {},
     "output_type": "execute_result"
    }
   ],
   "source": [
    "name.head(5)"
   ]
  },
  {
   "cell_type": "code",
   "execution_count": null,
   "metadata": {},
   "outputs": [],
   "source": []
  },
  {
   "cell_type": "markdown",
   "metadata": {},
   "source": [
    "# Top 5 visited pages"
   ]
  },
  {
   "cell_type": "code",
   "execution_count": 515,
   "metadata": {},
   "outputs": [
    {
     "data": {
      "text/plain": [
       "<matplotlib.axes._subplots.AxesSubplot at 0x281d1dfc148>"
      ]
     },
     "execution_count": 515,
     "metadata": {},
     "output_type": "execute_result"
    },
    {
     "data": {
      "image/png": "[encoded data removed]",
      "text/plain": [
       "<Figure size 576x396 with 1 Axes>"
      ]
     },
     "metadata": {},
     "output_type": "display_data"
    }
   ],
   "source": [
    "sns.barplot(df.action.value_counts().index[:5],df.action.value_counts().values[:5])"
   ]
  },
  {
   "cell_type": "code",
   "execution_count": 259,
   "metadata": {},
   "outputs": [],
   "source": [
    "page  = df.action.value_counts()"
   ]
  },
  {
   "cell_type": "code",
   "execution_count": 487,
   "metadata": {},
   "outputs": [
    {
     "data": {
      "text/plain": [
       "GET /twiki/pub/TWiki/TWikiLogos/twikiRobot46x50.gif    64\n",
       "GET /                                                  47\n",
       "GET /twiki/bin/view/Main/WebHome                       41\n",
       "GET /icons/gnu-head-tiny.jpg                           37\n",
       "GET /icons/PythonPowered.png                           37\n",
       "Name: action, dtype: int64"
      ]
     },
     "execution_count": 487,
     "metadata": {},
     "output_type": "execute_result"
    }
   ],
   "source": [
    "page.head(5)"
   ]
  },
  {
   "cell_type": "code",
   "execution_count": null,
   "metadata": {},
   "outputs": [],
   "source": []
  },
  {
   "cell_type": "markdown",
   "metadata": {},
   "source": [
    "# Plotting graph according to user geo location"
   ]
  },
  {
   "cell_type": "code",
   "execution_count": 528,
   "metadata": {},
   "outputs": [
    {
     "data": {
      "text/plain": [
       "<matplotlib.axes._subplots.AxesSubplot at 0x281d80d7d88>"
      ]
     },
     "execution_count": 528,
     "metadata": {},
     "output_type": "execute_result"
    },
    {
     "data": {
      "image/png": "[encoded data removed]",
      "text/plain": [
       "<Figure size 576x396 with 1 Axes>"
      ]
     },
     "metadata": {},
     "output_type": "display_data"
    }
   ],
   "source": [
    "sns.countplot(df.ip,hue = df.Country)"
   ]
  },
  {
   "cell_type": "code",
   "execution_count": null,
   "metadata": {},
   "outputs": [],
   "source": []
  }
 ],
 "metadata": {
  "kernelspec": {
   "display_name": "Python 3",
   "language": "python",
   "name": "python3"
  },
  "language_info": {
   "codemirror_mode": {
    "name": "ipython",
    "version": 3
   },
   "file_extension": ".py",
   "mimetype": "text/x-python",
   "name": "python",
   "nbconvert_exporter": "python",
   "pygments_lexer": "ipython3",
   "version": "3.7.4"
  }
 },
 "nbformat": 4,
 "nbformat_minor": 2
}
